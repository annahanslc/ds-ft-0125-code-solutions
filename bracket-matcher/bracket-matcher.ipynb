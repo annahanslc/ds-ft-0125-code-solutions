{
 "cells": [
  {
   "cell_type": "markdown",
   "metadata": {},
   "source": [
    "# bracket-matcher\n",
    "\n",
    "Exercise\n",
    "\n",
    "Write a function named “BracketMatcher” that takes one parameter, a string named “s”. The function should return True if the brackets are correctly matched and each bracket is matched and False if they aren’t.\n",
    "\n",
    "Example: s = “(a((kl(mns)t)uvwz)” Output: False"
   ]
  },
  {
   "cell_type": "code",
   "execution_count": 28,
   "metadata": {},
   "outputs": [],
   "source": [
    "s = \"(a((kl(mns)t)uvwz)\"     # The test example, result should be False\n",
    "s2 = \"(a((kl(mns)t)uvwz))\"   # Second test example, result should be True\n",
    "s3 = \"(a))()kl(mnstuvwz\"     # Third test example, number of brackets match, but in the wrong order, result should be False\n",
    "\n",
    "def BracketMatcher(string):\n",
    "  counter = 0                 # Start a counter to keep track of number of (\n",
    "  for character in string:\n",
    "    if character == '(':      # For every ( add 1 to counter\n",
    "      counter += 1\n",
    "    if character == ')':\n",
    "      counter -= 1            # For every ) minus 1 to counter\n",
    "    if counter < 0:\n",
    "      return False            # Edge case, if there are more ) than (, then they cannot be correctly matched\n",
    "  return counter == 0         # If no edge case occurred, and the number of ( & ) match, then return True"
   ]
  },
  {
   "cell_type": "code",
   "execution_count": 29,
   "metadata": {},
   "outputs": [
    {
     "name": "stdout",
     "output_type": "stream",
     "text": [
      "False\n",
      "True\n",
      "False\n"
     ]
    }
   ],
   "source": [
    "print(BracketMatcher(s))\n",
    "print(BracketMatcher(s2))\n",
    "print(BracketMatcher(s3))"
   ]
  },
  {
   "cell_type": "code",
   "execution_count": null,
   "metadata": {},
   "outputs": [],
   "source": []
  }
 ],
 "metadata": {
  "kernelspec": {
   "display_name": ".venv",
   "language": "python",
   "name": "python3"
  },
  "language_info": {
   "codemirror_mode": {
    "name": "ipython",
    "version": 3
   },
   "file_extension": ".py",
   "mimetype": "text/x-python",
   "name": "python",
   "nbconvert_exporter": "python",
   "pygments_lexer": "ipython3",
   "version": "3.13.1"
  }
 },
 "nbformat": 4,
 "nbformat_minor": 2
}
