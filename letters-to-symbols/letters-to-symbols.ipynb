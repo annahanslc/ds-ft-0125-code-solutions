{
 "cells": [
  {
   "cell_type": "markdown",
   "metadata": {},
   "source": [
    "# letters-to-symbols\n",
    "\n",
    "Exercise\n",
    "\n",
    "Write a function named “letters_to_symbols” that will take one parameter, a string named ‘s’. The function will encode the string so that the amount of letters will be represented by a number and the letter.\n",
    "\n",
    "Example: s = \"AAAABBBCCDAAA\" Output: \"4A3B2C1D3A\""
   ]
  },
  {
   "cell_type": "code",
   "execution_count": 93,
   "metadata": {},
   "outputs": [],
   "source": [
    "def letters_to_symbols(string):\n",
    "  counter = 1\n",
    "  result = []\n",
    "  for n in range(len(string)-1):\n",
    "    if string[n] == string[n+1]:\n",
    "      counter += 1\n",
    "    else:\n",
    "      result.extend([str(counter),string[n]])\n",
    "      counter = 1\n",
    "  result.extend([str(counter),string[-1]])\n",
    "\n",
    "  return ''.join(result)"
   ]
  },
  {
   "cell_type": "code",
   "execution_count": 94,
   "metadata": {},
   "outputs": [
    {
     "name": "stdout",
     "output_type": "stream",
     "text": [
      "4A3B2C1D3A\n"
     ]
    }
   ],
   "source": [
    "s = \"AAAABBBCCDAAA\"\n",
    "counted_string = letters_to_symbols(s)\n",
    "print(counted_string)"
   ]
  }
 ],
 "metadata": {
  "kernelspec": {
   "display_name": ".venv",
   "language": "python",
   "name": "python3"
  },
  "language_info": {
   "codemirror_mode": {
    "name": "ipython",
    "version": 3
   },
   "file_extension": ".py",
   "mimetype": "text/x-python",
   "name": "python",
   "nbconvert_exporter": "python",
   "pygments_lexer": "ipython3",
   "version": "3.13.1"
  }
 },
 "nbformat": 4,
 "nbformat_minor": 2
}
