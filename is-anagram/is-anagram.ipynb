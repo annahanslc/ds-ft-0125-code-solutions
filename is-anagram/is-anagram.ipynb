{
 "cells": [
  {
   "cell_type": "markdown",
   "metadata": {},
   "source": [
    "# Is-Anagram\n",
    "\n",
    "Exercise\n",
    "Write a function named “is_anagram” that takes two parameters, a string named “str_1” and a string named “str_2”. The function should return True if the words are anagrams of one another, and False if they are not.\n",
    "\n",
    "Examples: str_1 = “cautioned” str_1 = “cat” str_2 = “education” str_2 = “rat” Output: True Output: False"
   ]
  },
  {
   "cell_type": "markdown",
   "metadata": {},
   "source": [
    "### Method 1a: using dictionaries to keep count of characters and then compare dictionaries"
   ]
  },
  {
   "cell_type": "code",
   "execution_count": 80,
   "metadata": {},
   "outputs": [],
   "source": [
    "def is_anagram(str_1, str_2):\n",
    "  # Count the characters in the first string\n",
    "  str_1_count = {}\n",
    "  for character in str_1:\n",
    "    if character in str_1_count.keys():\n",
    "      str_1_count[character] = (str_1_count[character] + 1)\n",
    "    else: str_1_count[character] = 1\n",
    "\n",
    "  # Count the characters in the second string\n",
    "  str_2_count = {}\n",
    "  for character in str_2:\n",
    "    if character in str_2_count.keys():\n",
    "      str_2_count[character] = str_2_count[character] + 1\n",
    "    else: str_2_count[character] = 1\n",
    "\n",
    "  # Compare the two dictionaries\n",
    "  for key in str_1_count.keys():\n",
    "    if key in str_1_count and key in str_2_count:\n",
    "      if (str_1_count[key] == str_2_count[key]):\n",
    "        True\n",
    "      else:\n",
    "        return False\n",
    "    else:\n",
    "      return False\n",
    "  return True"
   ]
  },
  {
   "cell_type": "code",
   "execution_count": 87,
   "metadata": {},
   "outputs": [
    {
     "name": "stdout",
     "output_type": "stream",
     "text": [
      "True\n",
      "False\n"
     ]
    }
   ],
   "source": [
    "print(is_anagram('cautioned','education'))\n",
    "print(is_anagram('cat','rat'))"
   ]
  },
  {
   "cell_type": "markdown",
   "metadata": {},
   "source": [
    "### Method 1b: condensed version of method 1a"
   ]
  },
  {
   "cell_type": "code",
   "execution_count": 93,
   "metadata": {},
   "outputs": [],
   "source": [
    "def is_anagram_b(str_1, str_2):\n",
    "  # Count the characters in the first string\n",
    "  str_1_count = {}\n",
    "  for character in str_1:\n",
    "    str_1_count[character] = str_1_count.get(character,0) + 1\n",
    "\n",
    "  # Count the characters in the second string\n",
    "  str_2_count = {}\n",
    "  for character in str_2:\n",
    "    str_2_count[character] = str_2_count.get(character,0) + 1\n",
    "\n",
    "  # Compare the two dictionaries\n",
    "  return str_1_count == str_2_count"
   ]
  },
  {
   "cell_type": "code",
   "execution_count": 94,
   "metadata": {},
   "outputs": [
    {
     "name": "stdout",
     "output_type": "stream",
     "text": [
      "True\n",
      "False\n"
     ]
    }
   ],
   "source": [
    "print(is_anagram_b('cautioned','education'))\n",
    "print(is_anagram_b('cat','rat'))"
   ]
  },
  {
   "cell_type": "markdown",
   "metadata": {},
   "source": [
    "### Method 2: sorting the two strings and then comparing them"
   ]
  },
  {
   "cell_type": "code",
   "execution_count": 72,
   "metadata": {},
   "outputs": [],
   "source": [
    "def is_anagram_2(str_1, str_2):\n",
    "  return sorted(str_1) == sorted(str_2)"
   ]
  },
  {
   "cell_type": "code",
   "execution_count": 88,
   "metadata": {},
   "outputs": [
    {
     "name": "stdout",
     "output_type": "stream",
     "text": [
      "True\n",
      "False\n"
     ]
    }
   ],
   "source": [
    "print(is_anagram_2('cautioned','education'))\n",
    "print(is_anagram_2('cat','rat'))"
   ]
  }
 ],
 "metadata": {
  "kernelspec": {
   "display_name": ".venv",
   "language": "python",
   "name": "python3"
  },
  "language_info": {
   "codemirror_mode": {
    "name": "ipython",
    "version": 3
   },
   "file_extension": ".py",
   "mimetype": "text/x-python",
   "name": "python",
   "nbconvert_exporter": "python",
   "pygments_lexer": "ipython3",
   "version": "3.13.1"
  }
 },
 "nbformat": 4,
 "nbformat_minor": 2
}
